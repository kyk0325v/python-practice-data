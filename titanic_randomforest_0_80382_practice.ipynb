{
  "nbformat": 4,
  "nbformat_minor": 0,
  "metadata": {
    "colab": {
      "name": "titanic-randomforest-0.80382-practice.ipynb",
      "private_outputs": true,
      "provenance": [],
      "collapsed_sections": [],
      "toc_visible": true,
      "authorship_tag": "ABX9TyOZzOVclJW1dpAR6vSQkYbZ",
      "include_colab_link": true
    },
    "kernelspec": {
      "name": "python3",
      "display_name": "Python 3"
    },
    "language_info": {
      "name": "python"
    }
  },
  "cells": [
    {
      "cell_type": "markdown",
      "metadata": {
        "id": "view-in-github",
        "colab_type": "text"
      },
      "source": [
        "<a href=\"https://colab.research.google.com/github/kyk0325v/python-practice-data/blob/main/titanic_randomforest_0_80382_practice.ipynb\" target=\"_parent\"><img src=\"https://colab.research.google.com/assets/colab-badge.svg\" alt=\"Open In Colab\"/></a>"
      ]
    },
    {
      "cell_type": "code",
      "metadata": {
        "id": "9ADn1C8zyOzf"
      },
      "source": [
        ""
      ],
      "execution_count": null,
      "outputs": []
    },
    {
      "cell_type": "markdown",
      "metadata": {
        "id": "pYfaz93hyPq4"
      },
      "source": [
        "# titanic-randomforest-0.80382"
      ]
    },
    {
      "cell_type": "code",
      "metadata": {
        "id": "xtf4mp_ozlzP"
      },
      "source": [
        "import numpy as np\n",
        "import pandas as pd\n",
        "import seaborn as sns"
      ],
      "execution_count": null,
      "outputs": []
    },
    {
      "cell_type": "code",
      "metadata": {
        "id": "PqflLZ5qzp2l"
      },
      "source": [
        "SEED = 42"
      ],
      "execution_count": null,
      "outputs": []
    },
    {
      "cell_type": "code",
      "metadata": {
        "id": "hdHyVUfbzxo7"
      },
      "source": [
        "train_data = pd.read_csv(\"train.csv\")\n",
        "train_data.head()"
      ],
      "execution_count": null,
      "outputs": []
    },
    {
      "cell_type": "code",
      "metadata": {
        "id": "HG_0sHQSz2CY"
      },
      "source": [
        "test_data = pd.read_csv(\"test.csv\")\n",
        "test_data.head()"
      ],
      "execution_count": null,
      "outputs": []
    },
    {
      "cell_type": "code",
      "metadata": {
        "id": "NFdLvn_o0C1Z"
      },
      "source": [
        "test_data['Age'].fillna(round((test_data['Age'].mean())), inplace = True)\n",
        "train_data['Age'].fillna(round((train_data['Age'].mean())), inplace = True)"
      ],
      "execution_count": null,
      "outputs": []
    },
    {
      "cell_type": "code",
      "metadata": {
        "id": "YrIkDzvs0YOH"
      },
      "source": [
        "test_data['Fare'] = test_data['Fare'].fillna(test_data['Fare'].mean())"
      ],
      "execution_count": null,
      "outputs": []
    },
    {
      "cell_type": "code",
      "metadata": {
        "id": "FJ9UfWnq0dlN"
      },
      "source": [
        "train_data = train_data.drop(columns=['Name'], axis=1)\n",
        "test_data = test_data.drop(columns=['Name'], axis=1)"
      ],
      "execution_count": null,
      "outputs": []
    },
    {
      "cell_type": "code",
      "metadata": {
        "id": "VwbW_HgA0pov"
      },
      "source": [
        "train_data['Sex'] = train_data['Sex'].apply(lambda x: 0 if x == 'male' else 1)\n",
        "test_data['Sex'] = test_data['Sex'].apply(lambda x: 0 if x == 'male' else 1)"
      ],
      "execution_count": null,
      "outputs": []
    },
    {
      "cell_type": "code",
      "metadata": {
        "id": "oFD6wYUM02Hr"
      },
      "source": [
        "train_data = train_data.drop(columns=['Ticket'], axis=1)\n",
        "test_data = test_data.drop(columns=['Ticket'], axis=1)"
      ],
      "execution_count": null,
      "outputs": []
    },
    {
      "cell_type": "code",
      "metadata": {
        "id": "uw27reDU1AjS"
      },
      "source": [
        "train_data = train_data.drop(columns=['Cabin'], axis=1)\n",
        "test_data = test_data.drop(columns=['Cabin'], axis=1)"
      ],
      "execution_count": null,
      "outputs": []
    },
    {
      "cell_type": "code",
      "metadata": {
        "id": "OuyBO4Q21JeK"
      },
      "source": [
        "def embarked(x):\n",
        "  if x == 'Q':\n",
        "    return 0\n",
        "  elif x == 'C':\n",
        "    return 1\n",
        "  else:\n",
        "    return 2"
      ],
      "execution_count": null,
      "outputs": []
    },
    {
      "cell_type": "code",
      "metadata": {
        "id": "QkGqwqrv1SqF"
      },
      "source": [
        "train_data['Embarked'] = train_data['Embarked'].apply(embarked)\n",
        "test_data['Embarked'] = test_data['Embarked'].apply(embarked)"
      ],
      "execution_count": null,
      "outputs": []
    },
    {
      "cell_type": "code",
      "metadata": {
        "id": "zn7V1p__1dat"
      },
      "source": [
        "X = train_data.drop(\"Survived\", axis=1)\n",
        "y = train_data['Survived'].values"
      ],
      "execution_count": null,
      "outputs": []
    },
    {
      "cell_type": "code",
      "metadata": {
        "id": "San8YmeL1khP"
      },
      "source": [
        "x.head()"
      ],
      "execution_count": null,
      "outputs": []
    },
    {
      "cell_type": "code",
      "metadata": {
        "id": "R71-zOpN1lIf"
      },
      "source": [
        "from sklearn.model_selection import train_test_split\n",
        "from sklearn.ensemble import GradientBoostingClassifier"
      ],
      "execution_count": null,
      "outputs": []
    },
    {
      "cell_type": "code",
      "metadata": {
        "id": "ehhyvK1P1svp"
      },
      "source": [
        "X_train, X_test, y_train, y_test = train_test_split(X, y, test_size=0.2, random_state=SEED)"
      ],
      "execution_count": null,
      "outputs": []
    },
    {
      "cell_type": "code",
      "metadata": {
        "id": "6V1q7dow1-It"
      },
      "source": [
        "gdb = GradientBoostingClassifier(random_state=SEED)\n",
        "gdb.fit(X_train, y_train)"
      ],
      "execution_count": null,
      "outputs": []
    },
    {
      "cell_type": "code",
      "metadata": {
        "id": "zcfvVCV22K4M"
      },
      "source": [
        "y_pred = gdb.predict(test_data)"
      ],
      "execution_count": null,
      "outputs": []
    },
    {
      "cell_type": "code",
      "metadata": {
        "id": "TKkWBja62PMw"
      },
      "source": [
        "sub = pd.read_csv('gender_submission.csv')\n",
        "sub.head()"
      ],
      "execution_count": null,
      "outputs": []
    },
    {
      "cell_type": "code",
      "metadata": {
        "id": "sh7fayv_2Tvv"
      },
      "source": [
        "sub['Survived'] = y_pred\n",
        "sub.to_csv(\"titanic_results-5.csv\", index=False)\n",
        "sub.head()"
      ],
      "execution_count": null,
      "outputs": []
    },
    {
      "cell_type": "code",
      "metadata": {
        "id": "VPt3uiPS2eTD"
      },
      "source": [
        ""
      ],
      "execution_count": null,
      "outputs": []
    }
  ]
}